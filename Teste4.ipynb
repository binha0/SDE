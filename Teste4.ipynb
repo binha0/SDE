{
 "cells": [
  {
   "cell_type": "markdown",
   "metadata": {},
   "source": [
    "# Teste 5b\n",
    "\n",
    "Beatriz Evelbauer Simões "
   ]
  },
  {
   "cell_type": "markdown",
   "metadata": {},
   "source": [
    "Queremos "
   ]
  },
  {
   "cell_type": "code",
   "execution_count": null,
   "metadata": {},
   "outputs": [],
   "source": [
    "using Plots, Distributions, Random\n",
    "theme(:ggplot2)\n",
    "rng = MersenneTwister(1234)"
   ]
  },
  {
   "cell_type": "code",
   "execution_count": null,
   "metadata": {},
   "outputs": [],
   "source": [
    "# definindo funções para simulação\n",
    "function WienerToBrownian(N)\n",
    "    Wt = Vector(undef,N+1)\n",
    "    Bt = Vector(undef,N+1)\n",
    "    Wt[1] = 0\n",
    "    Δt = T/n\n",
    "    for i ∈ 1:n \n",
    "        step = randn(rng) * √Δt # novo incremento\n",
    "        Wt[i+1] = Wt[i] + step\n",
    "    end\n",
    "    # agora passando para a ponte\n",
    "    Bt .= Wt .+ [j*Δt for j ∈ 1:N] .* Wt[N+1] #W1\n",
    "    Bt[1] = 0 \n",
    "    Bt[N+1] = 0\n",
    "end\n",
    "\n",
    "function PonteBrowniana(a,b,t0,t1,N)\n",
    "\n",
    "end"
   ]
  }
 ],
 "metadata": {
  "kernelspec": {
   "display_name": "Julia 1.10.2",
   "language": "julia",
   "name": "julia-1.10"
  },
  "language_info": {
   "file_extension": ".jl",
   "mimetype": "application/julia",
   "name": "julia",
   "version": "1.10.2"
  }
 },
 "nbformat": 4,
 "nbformat_minor": 2
}
